{
 "cells": [
  {
   "cell_type": "code",
   "execution_count": 2,
   "metadata": {},
   "outputs": [],
   "source": [
    "from tqdm import tqdm \n",
    "import torch \n",
    "import torch.nn.functional as F \n",
    "from torchvision import datasets, transforms\n",
    "\n",
    "from models.VariationalAutoencoder import VariationalAutoencoder"
   ]
  },
  {
   "cell_type": "code",
   "execution_count": 5,
   "metadata": {},
   "outputs": [],
   "source": [
    "batch_size = 128\n",
    "train_ds = datasets.MNIST(root='./data/', train=True, transform=transforms.ToTensor(), download=True)\n",
    "train_dl = torch.utils.data.DataLoader(dataset=train_ds, batch_size=batch_size, shuffle=True, drop_last=True)"
   ]
  },
  {
   "cell_type": "code",
   "execution_count": 8,
   "metadata": {},
   "outputs": [
    {
     "data": {
      "text/plain": [
       "VariationalAutoencoder(\n",
       "  (enc_conv_layers): Sequential(\n",
       "    (0): Sequential(\n",
       "      (0): Conv2d(1, 32, kernel_size=(3, 3), stride=(1, 1), padding=(1, 1))\n",
       "      (1): LeakyReLU(negative_slope=0.01)\n",
       "      (2): BatchNorm2d(32, eps=1e-05, momentum=0.1, affine=True, track_running_stats=True)\n",
       "      (3): Dropout(p=0.25, inplace=False)\n",
       "    )\n",
       "    (1): Sequential(\n",
       "      (0): Conv2d(32, 64, kernel_size=(3, 3), stride=(2, 2), padding=(1, 1))\n",
       "      (1): LeakyReLU(negative_slope=0.01)\n",
       "      (2): BatchNorm2d(64, eps=1e-05, momentum=0.1, affine=True, track_running_stats=True)\n",
       "      (3): Dropout(p=0.25, inplace=False)\n",
       "    )\n",
       "    (2): Sequential(\n",
       "      (0): Conv2d(64, 64, kernel_size=(3, 3), stride=(2, 2))\n",
       "      (1): LeakyReLU(negative_slope=0.01)\n",
       "      (2): BatchNorm2d(64, eps=1e-05, momentum=0.1, affine=True, track_running_stats=True)\n",
       "      (3): Dropout(p=0.25, inplace=False)\n",
       "    )\n",
       "    (3): Sequential(\n",
       "      (0): Conv2d(64, 64, kernel_size=(3, 3), stride=(1, 1), padding=(1, 1))\n",
       "      (1): LeakyReLU(negative_slope=0.01)\n",
       "      (2): BatchNorm2d(64, eps=1e-05, momentum=0.1, affine=True, track_running_stats=True)\n",
       "      (3): Dropout(p=0.25, inplace=False)\n",
       "    )\n",
       "    (4): Flatten()\n",
       "    (5): TwoTupleLinear(\n",
       "      (lin1): Linear(in_features=2304, out_features=2, bias=True)\n",
       "      (lin2): Linear(in_features=2304, out_features=2, bias=True)\n",
       "    )\n",
       "  )\n",
       "  (lamdba_sampling_layer): Lambda()\n",
       "  (dec_conv_layers): Sequential(\n",
       "    (0): Linear(in_features=2, out_features=2304, bias=True)\n",
       "    (1): View()\n",
       "    (2): Sequential(\n",
       "      (0): ConvTranspose2d(64, 64, kernel_size=(3, 3), stride=(1, 1), padding=(1, 1))\n",
       "      (1): LeakyReLU(negative_slope=0.01)\n",
       "      (2): BatchNorm2d(64, eps=1e-05, momentum=0.1, affine=True, track_running_stats=True)\n",
       "      (3): Dropout(p=0.25, inplace=False)\n",
       "    )\n",
       "    (3): Sequential(\n",
       "      (0): ConvTranspose2d(64, 64, kernel_size=(3, 3), stride=(2, 2), output_padding=(1, 1))\n",
       "      (1): LeakyReLU(negative_slope=0.01)\n",
       "      (2): BatchNorm2d(64, eps=1e-05, momentum=0.1, affine=True, track_running_stats=True)\n",
       "      (3): Dropout(p=0.25, inplace=False)\n",
       "    )\n",
       "    (4): Sequential(\n",
       "      (0): ConvTranspose2d(64, 32, kernel_size=(3, 3), stride=(2, 2), padding=(1, 1), output_padding=(1, 1))\n",
       "      (1): LeakyReLU(negative_slope=0.01)\n",
       "      (2): BatchNorm2d(32, eps=1e-05, momentum=0.1, affine=True, track_running_stats=True)\n",
       "      (3): Dropout(p=0.25, inplace=False)\n",
       "    )\n",
       "    (5): Sequential(\n",
       "      (0): ConvTranspose2d(32, 1, kernel_size=(3, 3), stride=(1, 1), padding=(1, 1))\n",
       "      (1): Sigmoid()\n",
       "    )\n",
       "  )\n",
       ")"
      ]
     },
     "execution_count": 8,
     "metadata": {},
     "output_type": "execute_result"
    }
   ],
   "source": [
    "device = torch.device('cuda') if torch.cuda.is_available() else 'cpu'\n",
    "\n",
    "model = VariationalAutoencoder(train_ds[0][0][None], in_c=1, enc_out_c=[32, 64, 64, 64],\n",
    "                    enc_ks=[3, 3, 3, 3], enc_pads=[1, 1, 0, 1], enc_strides=[1, 2, 2, 1],\n",
    "                    dec_out_c=[64, 64, 32, 1], dec_ks=[3, 3, 3, 3], dec_strides=[1, 2, 2, 1],\n",
    "                    dec_pads=[1, 0, 1, 1], dec_op_pads=[0, 1, 1, 0], z_dim=2)\n",
    "\n",
    "model.to(device)\n",
    "\n",
    "model.train()"
   ]
  },
  {
   "cell_type": "code",
   "execution_count": 12,
   "metadata": {},
   "outputs": [],
   "source": [
    "def vae_kl_loss(mu, log_var):\n",
    "    return -.5 * torch.sum(1 + log_var - mu ** 2 - log_var.exp())\n",
    "\n",
    "def vae_loss(y_pred, mu, log_var, y_true):\n",
    "    r_loss = F.binary_cross_entropy(y_pred, y_true, reduction='sum')\n",
    "    kl_loss = vae_kl_loss(mu, log_var)\n",
    "    return r_loss + kl_loss"
   ]
  },
  {
   "cell_type": "code",
   "execution_count": 13,
   "metadata": {},
   "outputs": [
    {
     "name": "stderr",
     "output_type": "stream",
     "text": [
      "\r",
      "  0%|          | 0/20 [00:00<?, ?it/s]"
     ]
    },
    {
     "name": "stdout",
     "output_type": "stream",
     "text": [
      "tensor(160233.7031, device='cuda:0', grad_fn=<AddBackward0>)\n",
      "tensor(80888.5078, device='cuda:0', grad_fn=<AddBackward0>)\n",
      "tensor(56051.9648, device='cuda:0', grad_fn=<AddBackward0>)\n",
      "tensor(44659.5312, device='cuda:0', grad_fn=<AddBackward0>)\n",
      "tensor(40284.4297, device='cuda:0', grad_fn=<AddBackward0>)\n",
      "tensor(33649.2383, device='cuda:0', grad_fn=<AddBackward0>)\n",
      "tensor(32999.2344, device='cuda:0', grad_fn=<AddBackward0>)\n",
      "tensor(30899.5703, device='cuda:0', grad_fn=<AddBackward0>)\n",
      "tensor(27728.0098, device='cuda:0', grad_fn=<AddBackward0>)\n",
      "tensor(29534.6992, device='cuda:0', grad_fn=<AddBackward0>)\n",
      "tensor(28260.0195, device='cuda:0', grad_fn=<AddBackward0>)\n",
      "tensor(28057.9141, device='cuda:0', grad_fn=<AddBackward0>)\n",
      "tensor(27884.1758, device='cuda:0', grad_fn=<AddBackward0>)\n",
      "tensor(26718.2871, device='cuda:0', grad_fn=<AddBackward0>)\n"
     ]
    },
    {
     "name": "stderr",
     "output_type": "stream",
     "text": [
      "\r",
      "  5%|▌         | 1/20 [00:18<05:55, 18.72s/it]"
     ]
    },
    {
     "name": "stdout",
     "output_type": "stream",
     "text": [
      "tensor(26367.3457, device='cuda:0', grad_fn=<AddBackward0>)\n",
      "tensor(26490.3242, device='cuda:0', grad_fn=<AddBackward0>)\n",
      "tensor(25446.3008, device='cuda:0', grad_fn=<AddBackward0>)\n",
      "tensor(25018.4023, device='cuda:0', grad_fn=<AddBackward0>)\n",
      "tensor(24025.7461, device='cuda:0', grad_fn=<AddBackward0>)\n",
      "tensor(24546.8828, device='cuda:0', grad_fn=<AddBackward0>)\n",
      "tensor(26824.6094, device='cuda:0', grad_fn=<AddBackward0>)\n",
      "tensor(24704.9805, device='cuda:0', grad_fn=<AddBackward0>)\n",
      "tensor(23629.4121, device='cuda:0', grad_fn=<AddBackward0>)\n",
      "tensor(24202.4395, device='cuda:0', grad_fn=<AddBackward0>)\n",
      "tensor(23973.9023, device='cuda:0', grad_fn=<AddBackward0>)\n",
      "tensor(23360.2051, device='cuda:0', grad_fn=<AddBackward0>)\n",
      "tensor(23987.3965, device='cuda:0', grad_fn=<AddBackward0>)\n",
      "tensor(23471.7227, device='cuda:0', grad_fn=<AddBackward0>)\n",
      "tensor(22527.8477, device='cuda:0', grad_fn=<AddBackward0>)\n",
      "tensor(23846.2363, device='cuda:0', grad_fn=<AddBackward0>)\n"
     ]
    },
    {
     "name": "stderr",
     "output_type": "stream",
     "text": [
      "\r",
      " 10%|█         | 2/20 [00:37<05:34, 18.61s/it]"
     ]
    },
    {
     "name": "stdout",
     "output_type": "stream",
     "text": [
      "tensor(22317.3613, device='cuda:0', grad_fn=<AddBackward0>)\n",
      "tensor(23524.6836, device='cuda:0', grad_fn=<AddBackward0>)\n",
      "tensor(23517.1230, device='cuda:0', grad_fn=<AddBackward0>)\n",
      "tensor(23619.9258, device='cuda:0', grad_fn=<AddBackward0>)\n",
      "tensor(22826.5391, device='cuda:0', grad_fn=<AddBackward0>)\n",
      "tensor(24926.6777, device='cuda:0', grad_fn=<AddBackward0>)\n",
      "tensor(22991.8652, device='cuda:0', grad_fn=<AddBackward0>)\n",
      "tensor(24142.5391, device='cuda:0', grad_fn=<AddBackward0>)\n",
      "tensor(22877.4766, device='cuda:0', grad_fn=<AddBackward0>)\n",
      "tensor(23723.9805, device='cuda:0', grad_fn=<AddBackward0>)\n",
      "tensor(23244.2344, device='cuda:0', grad_fn=<AddBackward0>)\n",
      "tensor(21689.8008, device='cuda:0', grad_fn=<AddBackward0>)\n",
      "tensor(22788.3418, device='cuda:0', grad_fn=<AddBackward0>)\n",
      "tensor(22019.9434, device='cuda:0', grad_fn=<AddBackward0>)\n",
      "tensor(22425.9707, device='cuda:0', grad_fn=<AddBackward0>)\n"
     ]
    },
    {
     "name": "stderr",
     "output_type": "stream",
     "text": [
      "\r",
      " 15%|█▌        | 3/20 [00:55<05:14, 18.50s/it]"
     ]
    },
    {
     "name": "stdout",
     "output_type": "stream",
     "text": [
      "tensor(23134.3984, device='cuda:0', grad_fn=<AddBackward0>)\n",
      "tensor(23080.7246, device='cuda:0', grad_fn=<AddBackward0>)\n",
      "tensor(23693.4336, device='cuda:0', grad_fn=<AddBackward0>)\n",
      "tensor(22588.8477, device='cuda:0', grad_fn=<AddBackward0>)\n",
      "tensor(23433.3633, device='cuda:0', grad_fn=<AddBackward0>)\n",
      "tensor(22845.2168, device='cuda:0', grad_fn=<AddBackward0>)\n",
      "tensor(23603.6484, device='cuda:0', grad_fn=<AddBackward0>)\n",
      "tensor(23291.4062, device='cuda:0', grad_fn=<AddBackward0>)\n",
      "tensor(23876.5078, device='cuda:0', grad_fn=<AddBackward0>)\n",
      "tensor(22219.9336, device='cuda:0', grad_fn=<AddBackward0>)\n",
      "tensor(21700.1445, device='cuda:0', grad_fn=<AddBackward0>)\n",
      "tensor(22872.6094, device='cuda:0', grad_fn=<AddBackward0>)\n",
      "tensor(23576.7051, device='cuda:0', grad_fn=<AddBackward0>)\n",
      "tensor(23392.2070, device='cuda:0', grad_fn=<AddBackward0>)\n",
      "tensor(22636.6875, device='cuda:0', grad_fn=<AddBackward0>)\n"
     ]
    },
    {
     "name": "stderr",
     "output_type": "stream",
     "text": [
      "\r",
      " 20%|██        | 4/20 [01:14<04:58, 18.68s/it]"
     ]
    },
    {
     "name": "stdout",
     "output_type": "stream",
     "text": [
      "tensor(22315.6934, device='cuda:0', grad_fn=<AddBackward0>)\n",
      "tensor(23078.4844, device='cuda:0', grad_fn=<AddBackward0>)\n",
      "tensor(22977.0273, device='cuda:0', grad_fn=<AddBackward0>)\n",
      "tensor(23020.2324, device='cuda:0', grad_fn=<AddBackward0>)\n",
      "tensor(22501.7754, device='cuda:0', grad_fn=<AddBackward0>)\n",
      "tensor(21814.1328, device='cuda:0', grad_fn=<AddBackward0>)\n",
      "tensor(22809.6504, device='cuda:0', grad_fn=<AddBackward0>)\n",
      "tensor(23377.9961, device='cuda:0', grad_fn=<AddBackward0>)\n",
      "tensor(22444.3105, device='cuda:0', grad_fn=<AddBackward0>)\n",
      "tensor(23055.0918, device='cuda:0', grad_fn=<AddBackward0>)\n",
      "tensor(22481.2402, device='cuda:0', grad_fn=<AddBackward0>)\n",
      "tensor(22228.6641, device='cuda:0', grad_fn=<AddBackward0>)\n",
      "tensor(22236.8203, device='cuda:0', grad_fn=<AddBackward0>)\n",
      "tensor(22376.2383, device='cuda:0', grad_fn=<AddBackward0>)\n",
      "tensor(22288.8047, device='cuda:0', grad_fn=<AddBackward0>)\n"
     ]
    },
    {
     "name": "stderr",
     "output_type": "stream",
     "text": [
      "\r",
      " 25%|██▌       | 5/20 [01:32<04:38, 18.56s/it]"
     ]
    },
    {
     "name": "stdout",
     "output_type": "stream",
     "text": [
      "tensor(21888.4961, device='cuda:0', grad_fn=<AddBackward0>)\n",
      "tensor(22941.3789, device='cuda:0', grad_fn=<AddBackward0>)\n",
      "tensor(23214.9727, device='cuda:0', grad_fn=<AddBackward0>)\n",
      "tensor(22932.2285, device='cuda:0', grad_fn=<AddBackward0>)\n",
      "tensor(22651.8262, device='cuda:0', grad_fn=<AddBackward0>)\n",
      "tensor(22022.5410, device='cuda:0', grad_fn=<AddBackward0>)\n",
      "tensor(22605.4707, device='cuda:0', grad_fn=<AddBackward0>)\n",
      "tensor(21569.4707, device='cuda:0', grad_fn=<AddBackward0>)\n",
      "tensor(22041.3242, device='cuda:0', grad_fn=<AddBackward0>)\n",
      "tensor(21736.3730, device='cuda:0', grad_fn=<AddBackward0>)\n",
      "tensor(22390.2383, device='cuda:0', grad_fn=<AddBackward0>)\n",
      "tensor(23199.8047, device='cuda:0', grad_fn=<AddBackward0>)\n",
      "tensor(22855.1406, device='cuda:0', grad_fn=<AddBackward0>)\n",
      "tensor(22968.7891, device='cuda:0', grad_fn=<AddBackward0>)\n",
      "tensor(22848.8262, device='cuda:0', grad_fn=<AddBackward0>)\n"
     ]
    },
    {
     "name": "stderr",
     "output_type": "stream",
     "text": [
      "\r",
      " 30%|███       | 6/20 [01:50<04:18, 18.45s/it]"
     ]
    },
    {
     "name": "stdout",
     "output_type": "stream",
     "text": [
      "tensor(22040.6777, device='cuda:0', grad_fn=<AddBackward0>)\n",
      "tensor(22462.9277, device='cuda:0', grad_fn=<AddBackward0>)\n",
      "tensor(22003.0215, device='cuda:0', grad_fn=<AddBackward0>)\n",
      "tensor(22825.5605, device='cuda:0', grad_fn=<AddBackward0>)\n",
      "tensor(22106.9688, device='cuda:0', grad_fn=<AddBackward0>)\n",
      "tensor(22660.0996, device='cuda:0', grad_fn=<AddBackward0>)\n",
      "tensor(21436.8262, device='cuda:0', grad_fn=<AddBackward0>)\n",
      "tensor(22179.3301, device='cuda:0', grad_fn=<AddBackward0>)\n",
      "tensor(21603.2871, device='cuda:0', grad_fn=<AddBackward0>)\n",
      "tensor(21756.6641, device='cuda:0', grad_fn=<AddBackward0>)\n",
      "tensor(21441.1172, device='cuda:0', grad_fn=<AddBackward0>)\n",
      "tensor(21012.4082, device='cuda:0', grad_fn=<AddBackward0>)\n",
      "tensor(22250.6641, device='cuda:0', grad_fn=<AddBackward0>)\n",
      "tensor(23599.2676, device='cuda:0', grad_fn=<AddBackward0>)\n"
     ]
    },
    {
     "name": "stderr",
     "output_type": "stream",
     "text": [
      "\r",
      " 35%|███▌      | 7/20 [02:09<04:00, 18.53s/it]"
     ]
    },
    {
     "name": "stdout",
     "output_type": "stream",
     "text": [
      "tensor(21738.2988, device='cuda:0', grad_fn=<AddBackward0>)\n",
      "tensor(22460.2051, device='cuda:0', grad_fn=<AddBackward0>)\n",
      "tensor(22491.1406, device='cuda:0', grad_fn=<AddBackward0>)\n",
      "tensor(22111.7129, device='cuda:0', grad_fn=<AddBackward0>)\n",
      "tensor(21528.2715, device='cuda:0', grad_fn=<AddBackward0>)\n",
      "tensor(21330.4023, device='cuda:0', grad_fn=<AddBackward0>)\n",
      "tensor(21732.3770, device='cuda:0', grad_fn=<AddBackward0>)\n",
      "tensor(22302.8398, device='cuda:0', grad_fn=<AddBackward0>)\n",
      "tensor(21924.1113, device='cuda:0', grad_fn=<AddBackward0>)\n",
      "tensor(21643.1289, device='cuda:0', grad_fn=<AddBackward0>)\n",
      "tensor(22567.8867, device='cuda:0', grad_fn=<AddBackward0>)\n",
      "tensor(23105.2129, device='cuda:0', grad_fn=<AddBackward0>)\n",
      "tensor(22167.5527, device='cuda:0', grad_fn=<AddBackward0>)\n",
      "tensor(22496.3945, device='cuda:0', grad_fn=<AddBackward0>)\n",
      "tensor(21573.2207, device='cuda:0', grad_fn=<AddBackward0>)\n"
     ]
    },
    {
     "name": "stderr",
     "output_type": "stream",
     "text": [
      "\r",
      " 40%|████      | 8/20 [02:28<03:42, 18.52s/it]"
     ]
    },
    {
     "name": "stdout",
     "output_type": "stream",
     "text": [
      "tensor(21696.4668, device='cuda:0', grad_fn=<AddBackward0>)\n",
      "tensor(21222.4434, device='cuda:0', grad_fn=<AddBackward0>)\n",
      "tensor(22061.6426, device='cuda:0', grad_fn=<AddBackward0>)\n",
      "tensor(21890.7070, device='cuda:0', grad_fn=<AddBackward0>)\n",
      "tensor(21942.1953, device='cuda:0', grad_fn=<AddBackward0>)\n",
      "tensor(22307.0059, device='cuda:0', grad_fn=<AddBackward0>)\n",
      "tensor(21515.2422, device='cuda:0', grad_fn=<AddBackward0>)\n",
      "tensor(22294.0039, device='cuda:0', grad_fn=<AddBackward0>)\n",
      "tensor(22889.8594, device='cuda:0', grad_fn=<AddBackward0>)\n",
      "tensor(21815.3945, device='cuda:0', grad_fn=<AddBackward0>)\n",
      "tensor(22621.6738, device='cuda:0', grad_fn=<AddBackward0>)\n",
      "tensor(22834.6270, device='cuda:0', grad_fn=<AddBackward0>)\n",
      "tensor(24144.5098, device='cuda:0', grad_fn=<AddBackward0>)\n",
      "tensor(22482.5371, device='cuda:0', grad_fn=<AddBackward0>)\n",
      "tensor(22919.7910, device='cuda:0', grad_fn=<AddBackward0>)\n"
     ]
    },
    {
     "name": "stderr",
     "output_type": "stream",
     "text": [
      "\r",
      " 45%|████▌     | 9/20 [02:46<03:22, 18.45s/it]"
     ]
    },
    {
     "name": "stdout",
     "output_type": "stream",
     "text": [
      "tensor(22934.8281, device='cuda:0', grad_fn=<AddBackward0>)\n",
      "tensor(22427.2812, device='cuda:0', grad_fn=<AddBackward0>)\n",
      "tensor(21409.7324, device='cuda:0', grad_fn=<AddBackward0>)\n",
      "tensor(21458.9258, device='cuda:0', grad_fn=<AddBackward0>)\n",
      "tensor(21411.5078, device='cuda:0', grad_fn=<AddBackward0>)\n",
      "tensor(21601.3750, device='cuda:0', grad_fn=<AddBackward0>)\n",
      "tensor(20925.3574, device='cuda:0', grad_fn=<AddBackward0>)\n",
      "tensor(22696.3594, device='cuda:0', grad_fn=<AddBackward0>)\n",
      "tensor(21844.5195, device='cuda:0', grad_fn=<AddBackward0>)\n",
      "tensor(21240.9473, device='cuda:0', grad_fn=<AddBackward0>)\n",
      "tensor(22042.1699, device='cuda:0', grad_fn=<AddBackward0>)\n",
      "tensor(21788.3711, device='cuda:0', grad_fn=<AddBackward0>)\n",
      "tensor(21828.8164, device='cuda:0', grad_fn=<AddBackward0>)\n",
      "tensor(21243.6172, device='cuda:0', grad_fn=<AddBackward0>)\n",
      "tensor(22031.5859, device='cuda:0', grad_fn=<AddBackward0>)\n",
      "tensor(22081.2754, device='cuda:0', grad_fn=<AddBackward0>)\n"
     ]
    },
    {
     "name": "stderr",
     "output_type": "stream",
     "text": [
      "\r",
      " 50%|█████     | 10/20 [03:04<03:04, 18.42s/it]"
     ]
    },
    {
     "name": "stdout",
     "output_type": "stream",
     "text": [
      "tensor(21018.6035, device='cuda:0', grad_fn=<AddBackward0>)\n",
      "tensor(22360.0430, device='cuda:0', grad_fn=<AddBackward0>)\n",
      "tensor(22162.1328, device='cuda:0', grad_fn=<AddBackward0>)\n",
      "tensor(21366.9609, device='cuda:0', grad_fn=<AddBackward0>)\n",
      "tensor(21559.6055, device='cuda:0', grad_fn=<AddBackward0>)\n",
      "tensor(21597.1719, device='cuda:0', grad_fn=<AddBackward0>)\n",
      "tensor(22428.9258, device='cuda:0', grad_fn=<AddBackward0>)\n",
      "tensor(22570.9727, device='cuda:0', grad_fn=<AddBackward0>)\n",
      "tensor(21598.5508, device='cuda:0', grad_fn=<AddBackward0>)\n",
      "tensor(21651.0020, device='cuda:0', grad_fn=<AddBackward0>)\n",
      "tensor(21528.1016, device='cuda:0', grad_fn=<AddBackward0>)\n",
      "tensor(21922.3926, device='cuda:0', grad_fn=<AddBackward0>)\n",
      "tensor(20402.2520, device='cuda:0', grad_fn=<AddBackward0>)\n",
      "tensor(21545.0762, device='cuda:0', grad_fn=<AddBackward0>)\n"
     ]
    },
    {
     "name": "stderr",
     "output_type": "stream",
     "text": [
      "\r",
      " 55%|█████▌    | 11/20 [03:23<02:46, 18.45s/it]"
     ]
    },
    {
     "name": "stdout",
     "output_type": "stream",
     "text": [
      "tensor(21506.4668, device='cuda:0', grad_fn=<AddBackward0>)\n",
      "tensor(23250.4941, device='cuda:0', grad_fn=<AddBackward0>)\n",
      "tensor(22391.3438, device='cuda:0', grad_fn=<AddBackward0>)\n",
      "tensor(21590.2695, device='cuda:0', grad_fn=<AddBackward0>)\n",
      "tensor(21259.0449, device='cuda:0', grad_fn=<AddBackward0>)\n",
      "tensor(21487.7168, device='cuda:0', grad_fn=<AddBackward0>)\n",
      "tensor(21937.5195, device='cuda:0', grad_fn=<AddBackward0>)\n",
      "tensor(21678.9590, device='cuda:0', grad_fn=<AddBackward0>)\n",
      "tensor(22462.6621, device='cuda:0', grad_fn=<AddBackward0>)\n",
      "tensor(22201.5273, device='cuda:0', grad_fn=<AddBackward0>)\n",
      "tensor(21706.3574, device='cuda:0', grad_fn=<AddBackward0>)\n",
      "tensor(21960.9395, device='cuda:0', grad_fn=<AddBackward0>)\n",
      "tensor(21819.9590, device='cuda:0', grad_fn=<AddBackward0>)\n",
      "tensor(22031.1523, device='cuda:0', grad_fn=<AddBackward0>)\n",
      "tensor(21785.2754, device='cuda:0', grad_fn=<AddBackward0>)\n",
      "tensor(22164.5391, device='cuda:0', grad_fn=<AddBackward0>)\n"
     ]
    },
    {
     "name": "stderr",
     "output_type": "stream",
     "text": [
      "\r",
      " 60%|██████    | 12/20 [03:42<02:28, 18.55s/it]"
     ]
    },
    {
     "name": "stdout",
     "output_type": "stream",
     "text": [
      "tensor(21561.7383, device='cuda:0', grad_fn=<AddBackward0>)\n",
      "tensor(21514.1777, device='cuda:0', grad_fn=<AddBackward0>)\n",
      "tensor(21566.8164, device='cuda:0', grad_fn=<AddBackward0>)\n",
      "tensor(21537.7441, device='cuda:0', grad_fn=<AddBackward0>)\n",
      "tensor(21152.4707, device='cuda:0', grad_fn=<AddBackward0>)\n",
      "tensor(21892.7773, device='cuda:0', grad_fn=<AddBackward0>)\n",
      "tensor(22058.0508, device='cuda:0', grad_fn=<AddBackward0>)\n",
      "tensor(21543.4531, device='cuda:0', grad_fn=<AddBackward0>)\n",
      "tensor(21533.0859, device='cuda:0', grad_fn=<AddBackward0>)\n",
      "tensor(21314.1992, device='cuda:0', grad_fn=<AddBackward0>)\n",
      "tensor(21196.2617, device='cuda:0', grad_fn=<AddBackward0>)\n",
      "tensor(23475.4609, device='cuda:0', grad_fn=<AddBackward0>)\n",
      "tensor(22095.8066, device='cuda:0', grad_fn=<AddBackward0>)\n",
      "tensor(21872.7324, device='cuda:0', grad_fn=<AddBackward0>)\n",
      "tensor(22241.5664, device='cuda:0', grad_fn=<AddBackward0>)\n"
     ]
    },
    {
     "name": "stderr",
     "output_type": "stream",
     "text": [
      "\r",
      " 65%|██████▌   | 13/20 [03:59<02:08, 18.33s/it]"
     ]
    },
    {
     "name": "stdout",
     "output_type": "stream",
     "text": [
      "tensor(22025.3574, device='cuda:0', grad_fn=<AddBackward0>)\n",
      "tensor(21690.0625, device='cuda:0', grad_fn=<AddBackward0>)\n",
      "tensor(20586.7539, device='cuda:0', grad_fn=<AddBackward0>)\n",
      "tensor(21670.8828, device='cuda:0', grad_fn=<AddBackward0>)\n",
      "tensor(20802.4473, device='cuda:0', grad_fn=<AddBackward0>)\n",
      "tensor(21927.2285, device='cuda:0', grad_fn=<AddBackward0>)\n",
      "tensor(21534.3359, device='cuda:0', grad_fn=<AddBackward0>)\n",
      "tensor(22525.5918, device='cuda:0', grad_fn=<AddBackward0>)\n",
      "tensor(21900.1660, device='cuda:0', grad_fn=<AddBackward0>)\n",
      "tensor(20599.1660, device='cuda:0', grad_fn=<AddBackward0>)\n",
      "tensor(21775.8652, device='cuda:0', grad_fn=<AddBackward0>)\n",
      "tensor(22327.6758, device='cuda:0', grad_fn=<AddBackward0>)\n",
      "tensor(22540.9629, device='cuda:0', grad_fn=<AddBackward0>)\n",
      "tensor(21718.1895, device='cuda:0', grad_fn=<AddBackward0>)\n",
      "tensor(21320.0840, device='cuda:0', grad_fn=<AddBackward0>)\n"
     ]
    },
    {
     "name": "stderr",
     "output_type": "stream",
     "text": [
      "\r",
      " 70%|███████   | 14/20 [04:18<01:50, 18.35s/it]"
     ]
    },
    {
     "name": "stdout",
     "output_type": "stream",
     "text": [
      "tensor(21459.4277, device='cuda:0', grad_fn=<AddBackward0>)\n",
      "tensor(21294.9219, device='cuda:0', grad_fn=<AddBackward0>)\n",
      "tensor(21330.2129, device='cuda:0', grad_fn=<AddBackward0>)\n",
      "tensor(22255.2109, device='cuda:0', grad_fn=<AddBackward0>)\n",
      "tensor(21329.5742, device='cuda:0', grad_fn=<AddBackward0>)\n",
      "tensor(22157.2285, device='cuda:0', grad_fn=<AddBackward0>)\n",
      "tensor(22015.9668, device='cuda:0', grad_fn=<AddBackward0>)\n",
      "tensor(21147.2207, device='cuda:0', grad_fn=<AddBackward0>)\n",
      "tensor(22372.4883, device='cuda:0', grad_fn=<AddBackward0>)\n",
      "tensor(22637.0801, device='cuda:0', grad_fn=<AddBackward0>)\n",
      "tensor(21990.0996, device='cuda:0', grad_fn=<AddBackward0>)\n",
      "tensor(22420.8945, device='cuda:0', grad_fn=<AddBackward0>)\n",
      "tensor(21974.0957, device='cuda:0', grad_fn=<AddBackward0>)\n",
      "tensor(23238.4434, device='cuda:0', grad_fn=<AddBackward0>)\n"
     ]
    },
    {
     "name": "stderr",
     "output_type": "stream",
     "text": [
      "\r",
      " 75%|███████▌  | 15/20 [04:36<01:31, 18.31s/it]"
     ]
    },
    {
     "name": "stdout",
     "output_type": "stream",
     "text": [
      "tensor(21232.7695, device='cuda:0', grad_fn=<AddBackward0>)\n",
      "tensor(20790.4297, device='cuda:0', grad_fn=<AddBackward0>)\n",
      "tensor(21381.2246, device='cuda:0', grad_fn=<AddBackward0>)\n",
      "tensor(22408.4219, device='cuda:0', grad_fn=<AddBackward0>)\n",
      "tensor(21845.1816, device='cuda:0', grad_fn=<AddBackward0>)\n",
      "tensor(21767.1426, device='cuda:0', grad_fn=<AddBackward0>)\n",
      "tensor(21549.3828, device='cuda:0', grad_fn=<AddBackward0>)\n",
      "tensor(21886.9082, device='cuda:0', grad_fn=<AddBackward0>)\n",
      "tensor(22283.6680, device='cuda:0', grad_fn=<AddBackward0>)\n",
      "tensor(21114.7539, device='cuda:0', grad_fn=<AddBackward0>)\n",
      "tensor(21393.0059, device='cuda:0', grad_fn=<AddBackward0>)\n",
      "tensor(21344.2871, device='cuda:0', grad_fn=<AddBackward0>)\n",
      "tensor(22165.4922, device='cuda:0', grad_fn=<AddBackward0>)\n",
      "tensor(22502.6367, device='cuda:0', grad_fn=<AddBackward0>)\n",
      "tensor(21542.6172, device='cuda:0', grad_fn=<AddBackward0>)\n"
     ]
    },
    {
     "name": "stderr",
     "output_type": "stream",
     "text": [
      "\r",
      " 80%|████████  | 16/20 [04:54<01:13, 18.34s/it]"
     ]
    },
    {
     "name": "stdout",
     "output_type": "stream",
     "text": [
      "tensor(21997.8086, device='cuda:0', grad_fn=<AddBackward0>)\n",
      "tensor(21958.6543, device='cuda:0', grad_fn=<AddBackward0>)\n",
      "tensor(21322.8613, device='cuda:0', grad_fn=<AddBackward0>)\n",
      "tensor(22718.1152, device='cuda:0', grad_fn=<AddBackward0>)\n",
      "tensor(21432.7891, device='cuda:0', grad_fn=<AddBackward0>)\n",
      "tensor(21165.2988, device='cuda:0', grad_fn=<AddBackward0>)\n",
      "tensor(21940.1094, device='cuda:0', grad_fn=<AddBackward0>)\n",
      "tensor(21721.3281, device='cuda:0', grad_fn=<AddBackward0>)\n",
      "tensor(21859.9883, device='cuda:0', grad_fn=<AddBackward0>)\n",
      "tensor(21222.4492, device='cuda:0', grad_fn=<AddBackward0>)\n",
      "tensor(20490.2070, device='cuda:0', grad_fn=<AddBackward0>)\n",
      "tensor(21800.9805, device='cuda:0', grad_fn=<AddBackward0>)\n",
      "tensor(22252.1387, device='cuda:0', grad_fn=<AddBackward0>)\n",
      "tensor(21408.2500, device='cuda:0', grad_fn=<AddBackward0>)\n",
      "tensor(20949.9023, device='cuda:0', grad_fn=<AddBackward0>)\n"
     ]
    },
    {
     "name": "stderr",
     "output_type": "stream",
     "text": [
      "\r",
      " 85%|████████▌ | 17/20 [05:13<00:55, 18.49s/it]"
     ]
    },
    {
     "name": "stdout",
     "output_type": "stream",
     "text": [
      "tensor(22478.3184, device='cuda:0', grad_fn=<AddBackward0>)\n",
      "tensor(22061.2559, device='cuda:0', grad_fn=<AddBackward0>)\n",
      "tensor(22292.1133, device='cuda:0', grad_fn=<AddBackward0>)\n",
      "tensor(23379.3613, device='cuda:0', grad_fn=<AddBackward0>)\n",
      "tensor(21821.6543, device='cuda:0', grad_fn=<AddBackward0>)\n",
      "tensor(22389.3652, device='cuda:0', grad_fn=<AddBackward0>)\n",
      "tensor(21369.2539, device='cuda:0', grad_fn=<AddBackward0>)\n",
      "tensor(21687.8457, device='cuda:0', grad_fn=<AddBackward0>)\n",
      "tensor(20563.2930, device='cuda:0', grad_fn=<AddBackward0>)\n",
      "tensor(22697.9453, device='cuda:0', grad_fn=<AddBackward0>)\n",
      "tensor(22296.7598, device='cuda:0', grad_fn=<AddBackward0>)\n",
      "tensor(21366.6621, device='cuda:0', grad_fn=<AddBackward0>)\n",
      "tensor(21800.6895, device='cuda:0', grad_fn=<AddBackward0>)\n",
      "tensor(20617.9902, device='cuda:0', grad_fn=<AddBackward0>)\n",
      "tensor(21446.7422, device='cuda:0', grad_fn=<AddBackward0>)\n",
      "tensor(21569.1406, device='cuda:0', grad_fn=<AddBackward0>)\n"
     ]
    },
    {
     "name": "stderr",
     "output_type": "stream",
     "text": [
      "\r",
      " 90%|█████████ | 18/20 [05:31<00:36, 18.36s/it]"
     ]
    },
    {
     "name": "stdout",
     "output_type": "stream",
     "text": [
      "tensor(20650.6230, device='cuda:0', grad_fn=<AddBackward0>)\n",
      "tensor(20721.3906, device='cuda:0', grad_fn=<AddBackward0>)\n",
      "tensor(21184.7539, device='cuda:0', grad_fn=<AddBackward0>)\n",
      "tensor(23051.8594, device='cuda:0', grad_fn=<AddBackward0>)\n",
      "tensor(21729.9395, device='cuda:0', grad_fn=<AddBackward0>)\n",
      "tensor(22228.8438, device='cuda:0', grad_fn=<AddBackward0>)\n",
      "tensor(20397.7363, device='cuda:0', grad_fn=<AddBackward0>)\n",
      "tensor(20425.0371, device='cuda:0', grad_fn=<AddBackward0>)\n",
      "tensor(21923.0293, device='cuda:0', grad_fn=<AddBackward0>)\n",
      "tensor(21306.2012, device='cuda:0', grad_fn=<AddBackward0>)\n",
      "tensor(22416.5977, device='cuda:0', grad_fn=<AddBackward0>)\n",
      "tensor(22204.9863, device='cuda:0', grad_fn=<AddBackward0>)\n",
      "tensor(21147.8770, device='cuda:0', grad_fn=<AddBackward0>)\n",
      "tensor(21656.7500, device='cuda:0', grad_fn=<AddBackward0>)\n",
      "tensor(21377.2422, device='cuda:0', grad_fn=<AddBackward0>)\n"
     ]
    },
    {
     "name": "stderr",
     "output_type": "stream",
     "text": [
      "\r",
      " 95%|█████████▌| 19/20 [05:50<00:18, 18.41s/it]"
     ]
    },
    {
     "name": "stdout",
     "output_type": "stream",
     "text": [
      "tensor(22269.7812, device='cuda:0', grad_fn=<AddBackward0>)\n",
      "tensor(21982.2891, device='cuda:0', grad_fn=<AddBackward0>)\n",
      "tensor(21443.4980, device='cuda:0', grad_fn=<AddBackward0>)\n",
      "tensor(21893.4062, device='cuda:0', grad_fn=<AddBackward0>)\n",
      "tensor(21666.6270, device='cuda:0', grad_fn=<AddBackward0>)\n",
      "tensor(21748.9609, device='cuda:0', grad_fn=<AddBackward0>)\n",
      "tensor(21612.0176, device='cuda:0', grad_fn=<AddBackward0>)\n",
      "tensor(21635.6914, device='cuda:0', grad_fn=<AddBackward0>)\n",
      "tensor(21333.5176, device='cuda:0', grad_fn=<AddBackward0>)\n",
      "tensor(21297.0176, device='cuda:0', grad_fn=<AddBackward0>)\n",
      "tensor(21532.9453, device='cuda:0', grad_fn=<AddBackward0>)\n",
      "tensor(21570.1387, device='cuda:0', grad_fn=<AddBackward0>)\n",
      "tensor(21275.2793, device='cuda:0', grad_fn=<AddBackward0>)\n",
      "tensor(21249.7734, device='cuda:0', grad_fn=<AddBackward0>)\n"
     ]
    },
    {
     "name": "stderr",
     "output_type": "stream",
     "text": [
      "\r",
      "100%|██████████| 20/20 [06:08<00:00, 18.46s/it]"
     ]
    },
    {
     "name": "stdout",
     "output_type": "stream",
     "text": [
      "tensor(21940.7305, device='cuda:0', grad_fn=<AddBackward0>)\n"
     ]
    },
    {
     "name": "stderr",
     "output_type": "stream",
     "text": [
      "\r",
      "100%|██████████| 20/20 [06:08<00:00, 18.44s/it]"
     ]
    },
    {
     "name": "stdout",
     "output_type": "stream",
     "text": [
      "tensor(22261.7070, device='cuda:0', grad_fn=<AddBackward0>)\n"
     ]
    },
    {
     "name": "stderr",
     "output_type": "stream",
     "text": [
      "\n"
     ]
    }
   ],
   "source": [
    "lr = .0005\n",
    "\n",
    "for epoch in tqdm(range(20)):\n",
    "    optimizer = torch.optim.Adam(model.parameters(), lr=lr / (epoch * 2 + 1), betas=(.9, .99), weight_decay=1e-2)\n",
    "    for i, (data, _) in enumerate(train_dl):\n",
    "        data = data.to(device)\n",
    "        optimizer.zero_grad()\n",
    "        pred, mu, log_var = model(data)\n",
    "        loss = vae_loss(pred, mu, log_var, data)\n",
    "        loss.backward()\n",
    "        optimizer.step()\n",
    "        if i % 33 == 0:\n",
    "            print(loss)\n",
    "            \n",
    "print(loss)            "
   ]
  },
  {
   "cell_type": "code",
   "execution_count": 14,
   "metadata": {},
   "outputs": [],
   "source": [
    "torch.save(model.state_dict(), 'models/state_dicts/03_03.pth')"
   ]
  },
  {
   "cell_type": "code",
   "execution_count": null,
   "metadata": {},
   "outputs": [],
   "source": []
  }
 ],
 "metadata": {
  "kernelspec": {
   "display_name": "Python [conda env:pytorch_env] *",
   "language": "python",
   "name": "conda-env-pytorch_env-py"
  },
  "language_info": {
   "codemirror_mode": {
    "name": "ipython",
    "version": 3
   },
   "file_extension": ".py",
   "mimetype": "text/x-python",
   "name": "python",
   "nbconvert_exporter": "python",
   "pygments_lexer": "ipython3",
   "version": "3.7.7"
  }
 },
 "nbformat": 4,
 "nbformat_minor": 4
}
